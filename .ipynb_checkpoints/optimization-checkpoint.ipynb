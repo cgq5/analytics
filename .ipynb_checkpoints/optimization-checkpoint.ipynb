{
 "cells": [
  {
   "cell_type": "markdown",
   "metadata": {
    "collapsed": true
   },
   "source": [
    "#### This is the Python implementation of Week 2 Operations Analytics: Making Best Decisions in Settings with Low Uncertainty\n",
    "\n",
    "#### We illustrate the examples and assignment in the class.\n",
    "\n",
    "#### They are the replacement of the MS Excel spreadsheets in the lecture."
   ]
  },
  {
   "cell_type": "markdown",
   "metadata": {},
   "source": [
    "#### First load the libraries. We need the minimization from scipy."
   ]
  },
  {
   "cell_type": "code",
   "execution_count": 1,
   "metadata": {
    "collapsed": true
   },
   "outputs": [],
   "source": [
    "from numpy import *\n",
    "from scipy.optimize import minimize "
   ]
  },
  {
   "cell_type": "markdown",
   "metadata": {},
   "source": [
    "#### Now we define the base class. In order to ensure the base class work properly,\n",
    "#### we set the initialization the same as the Zooter example. \n",
    "\n",
    "#### The cost function is the sum product of the coefficients and the fixed value. \n",
    "\n",
    "#### The coefficients are the variables to optimize, They can be the number of units to make in Zooter,\n",
    "#### the shipping quantities in Keystone, or shipping quantities in Colombi.\n",
    "\n",
    "####  The fixed values are profit per unit in Zooter, the shipping cost between cities in Keystone, or the shipping cost from one plant to one place in Colombi."
   ]
  },
  {
   "cell_type": "code",
   "execution_count": 2,
   "metadata": {
    "collapsed": true
   },
   "outputs": [],
   "source": [
    "class optimization:\n",
    "    def __init__(self):\n",
    "        self.x0 = 0 \n",
    "        self.coeff = 0 \n",
    "        self.cons = []\n",
    "        self.bnds = (0, None)\n",
    "    def costFunc(self, quant):\n",
    "        total = sum([(x*y) for x,y in zip(self.coeff, quant)])\n",
    "        return total\n",
    "    def optimum(self):\n",
    "        res = minimize(self.costFunc, self.x0, method='SLSQP', bounds=self.     bnds, constraints=self.cons)\n",
    "        x = [ round(elem) for elem in res.x]\n",
    "        print x\n",
    "        print(\"The minimum cost is %s\" % (round(res.fun)))\n",
    "    def sumShipping(self, arr, idx):\n",
    "        return arr[idx] + arr[idx + 3] + arr[idx + 6]  "
   ]
  },
  {
   "cell_type": "markdown",
   "metadata": {},
   "source": [
    "#### Zooter example has two variables to optimize and three constraints"
   ]
  },
  {
   "cell_type": "code",
   "execution_count": 3,
   "metadata": {
    "collapsed": true
   },
   "outputs": [],
   "source": [
    "class zooter(optimization):\n",
    "    def __init__(self):\n",
    "        self.x0 = [100, 500]\n",
    "        self.coeff = [-150, -160]\n",
    "        self.cons = ({'type': 'ineq', 'fun': lambda x:  5610 - 4*x[0] - 5 *     x[1]},\n",
    "        {'type': 'ineq', 'fun': lambda x: 2200 - 1.5 *x[0] - 2 * x[1]},\n",
    "        {'type': 'ineq', 'fun': lambda x: 1200 - x[0] - .8 * x[1]})\n",
    "        self.bnds = [(0, None)] * len(self.x0)"
   ]
  },
  {
   "cell_type": "markdown",
   "metadata": {},
   "source": [
    "#### Rahat example has three variables and 3 constraints."
   ]
  },
  {
   "cell_type": "code",
   "execution_count": 4,
   "metadata": {
    "collapsed": true
   },
   "outputs": [],
   "source": [
    "class rahat(optimization):\n",
    "    def __init__(self):\n",
    "        self.x0 = [10, 10, 10] \n",
    "        self.coeff= [-5, -5.3]\n",
    "        self.cons = ({'type': 'ineq', 'fun': lambda x:  150 - .1 *x[0] - .3 *   x[1]},\n",
    "        {'type': 'ineq', 'fun': lambda x: 51.65 - .05 * x[0] - .1 * x[1]},\n",
    "        {'type': 'ineq', 'fun': lambda x: 14.99 - .03 * x[0] - .02 * x[1]})\n",
    "        self.bnds = [(0, None)] * len(self.x0) "
   ]
  },
  {
   "cell_type": "markdown",
   "metadata": {
    "collapsed": true
   },
   "source": [
    "#### Keystone has 9 variables. Note in the original spreadsheet \n",
    "#### in the class, the variables are represented in a matrix.\n",
    "\n",
    "#### In our case, we flatten the matrix to an array to make it convenient for optimization"
   ]
  },
  {
   "cell_type": "code",
   "execution_count": 6,
   "metadata": {
    "collapsed": true
   },
   "outputs": [],
   "source": [
    "class keystone(optimization):\n",
    "    def __init__(self):\n",
    "        self.x0 = zeros(9)\n",
    "        self.cons = ({'type': 'ineq', 'fun': lambda x: self.sumShipping(x, 0) - 10 },\n",
    "                {'type': 'ineq', 'fun': lambda x: self.sumShipping(x, 1) - 13 },                {'type': 'ineq', 'fun': lambda x: self.sumShipping(x, 2) - 20 },\n",
    "                {'type': 'eq', 'fun': lambda x: sum(x[:3]) - 15 },\n",
    "                {'type': 'eq', 'fun': lambda x: sum(x[3:6]) - 20 },\n",
    "                {'type': 'eq', 'fun': lambda x: sum(x[6:9]) - 30 })\n",
    "        self.coeff = [105, 135, 153, 110, 140, 137, 130, 132, 115]\n",
    "        self.bnds = [(0, None)] * len(self.x0)"
   ]
  },
  {
   "cell_type": "markdown",
   "metadata": {
    "collapsed": true
   },
   "source": [
    "#### In Colmbi, we have 6 variables and 5 constraints."
   ]
  },
  {
   "cell_type": "code",
   "execution_count": 8,
   "metadata": {
    "collapsed": true
   },
   "outputs": [],
   "source": [
    "class colombi(optimization):\n",
    "    def __init__(self):\n",
    "        self.x0 = zeros(6)\n",
    "        # Objective function\n",
    "        self.cons = ({'type': 'ineq', 'fun': lambda x: x[0] + x[3] - 2000 },\n",
    "                {'type': 'ineq', 'fun': lambda x: x[1] + x[4] - 930 },\n",
    "                {'type': 'ineq', 'fun': lambda x: x[2] + x[5] - 2200 },\n",
    "                {'type': 'eq', 'fun': lambda x: sum(x[:3]) - 2500 },\n",
    "                {'type': 'eq', 'fun': lambda x: sum(x[3:6]) - 2630 })\n",
    "        self.bnds = [(0, None)] * len(self.x0)\n",
    "        self.coeff = [15, 21, 17, 23.5, 25.5, 22]"
   ]
  },
  {
   "cell_type": "markdown",
   "metadata": {
    "collapsed": true
   },
   "source": [
    "#### Now we check the optimization results. In the first row, they are optimal number of units.\n",
    "\n",
    "#### The second row is the minimum cost."
   ]
  },
  {
   "cell_type": "code",
   "execution_count": 10,
   "metadata": {
    "collapsed": false
   },
   "outputs": [
    {
     "name": "stdout",
     "output_type": "stream",
     "text": [
      "[840.0, 450.0]\n",
      "The minimum cost is -198000.0\n"
     ]
    }
   ],
   "source": [
    "opt = zooter()\n",
    "opt.optimum()\n"
   ]
  },
  {
   "cell_type": "markdown",
   "metadata": {
    "collapsed": true
   },
   "source": [
    "#### Results for Rahat"
   ]
  },
  {
   "cell_type": "code",
   "execution_count": 12,
   "metadata": {
    "collapsed": false
   },
   "outputs": [
    {
     "name": "stdout",
     "output_type": "stream",
     "text": [
      "[233.0, 400.0, 10.0]\n",
      "The minimum cost is -3285.0\n"
     ]
    }
   ],
   "source": [
    "opt = rahat()\n",
    "opt.optimum()"
   ]
  },
  {
   "cell_type": "markdown",
   "metadata": {
    "collapsed": true
   },
   "source": [
    "#### Results for Keystone."
   ]
  },
  {
   "cell_type": "code",
   "execution_count": 14,
   "metadata": {
    "collapsed": false
   },
   "outputs": [
    {
     "name": "stdout",
     "output_type": "stream",
     "text": [
      "[15.0, 0.0, 0.0, 17.0, 3.0, 0.0, 0.0, 10.0, 20.0]\n",
      "The minimum cost is 7485.0\n"
     ]
    }
   ],
   "source": [
    "opt = keystone()\n",
    "opt.optimum()"
   ]
  },
  {
   "cell_type": "markdown",
   "metadata": {
    "collapsed": true
   },
   "source": [
    "#### Results for Colombi."
   ]
  },
  {
   "cell_type": "code",
   "execution_count": 16,
   "metadata": {
    "collapsed": false
   },
   "outputs": [
    {
     "name": "stdout",
     "output_type": "stream",
     "text": [
      "[2000.0, 0.0, 500.0, 0.0, 930.0, 1700.0]\n",
      "The minimum cost is 99615.0\n"
     ]
    }
   ],
   "source": [
    "opt = colombi()\n",
    "opt.optimum()"
   ]
  }
 ],
 "metadata": {
  "kernelspec": {
   "display_name": "Python [Root]",
   "language": "python",
   "name": "Python [Root]"
  },
  "language_info": {
   "codemirror_mode": {
    "name": "ipython",
    "version": 2
   },
   "file_extension": ".py",
   "mimetype": "text/x-python",
   "name": "python",
   "nbconvert_exporter": "python",
   "pygments_lexer": "ipython2",
   "version": "2.7.12"
  }
 },
 "nbformat": 4,
 "nbformat_minor": 0
}
